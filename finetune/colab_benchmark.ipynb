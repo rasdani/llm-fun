{
  "nbformat": 4,
  "nbformat_minor": 0,
  "metadata": {
    "colab": {
      "provenance": [],
      "gpuType": "T4"
    },
    "kernelspec": {
      "name": "python3",
      "display_name": "Python 3"
    },
    "language_info": {
      "name": "python"
    },
    "accelerator": "GPU"
  },
  "cells": [
    {
      "cell_type": "code",
      "execution_count": null,
      "metadata": {
        "id": "cVflrYkAw6Yd"
      },
      "outputs": [],
      "source": [
        "!pip install transformers[torch] datasets --quiet"
      ]
    },
    {
      "cell_type": "code",
      "source": [
        "from huggingface_hub import notebook_login\n",
        "\n",
        "notebook_login()"
      ],
      "metadata": {
        "id": "zIp-Cc1C8ohT"
      },
      "execution_count": null,
      "outputs": []
    },
    {
      "cell_type": "code",
      "source": [
        "%run finetune.py"
      ],
      "metadata": {
        "id": "8atxlh_Ky_Mf"
      },
      "execution_count": null,
      "outputs": []
    },
    {
      "cell_type": "code",
      "source": [
        "%run finetune_token_parallel.py"
      ],
      "metadata": {
        "id": "Z6Wurgf07_AO"
      },
      "execution_count": null,
      "outputs": []
    },
    {
      "cell_type": "code",
      "source": [
        "%run grid_search.py"
      ],
      "metadata": {
        "id": "tbDFjy-7-I0a"
      },
      "execution_count": null,
      "outputs": []
    },
    {
      "cell_type": "code",
      "source": [],
      "metadata": {
        "id": "oUX42vCXERC_"
      },
      "execution_count": null,
      "outputs": []
    }
  ]
}